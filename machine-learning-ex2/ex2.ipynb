{
 "cells": [
  {
   "cell_type": "code",
   "execution_count": 1,
   "metadata": {},
   "outputs": [],
   "source": [
    "import pandas as pd\n",
    "import numpy as np"
   ]
  },
  {
   "cell_type": "code",
   "execution_count": 2,
   "metadata": {},
   "outputs": [],
   "source": [
    "data = pd.read_csv('ex2/ex2data1.txt', header = None)"
   ]
  },
  {
   "cell_type": "code",
   "execution_count": 3,
   "metadata": {},
   "outputs": [
    {
     "data": {
      "text/html": [
       "<div>\n",
       "<style scoped>\n",
       "    .dataframe tbody tr th:only-of-type {\n",
       "        vertical-align: middle;\n",
       "    }\n",
       "\n",
       "    .dataframe tbody tr th {\n",
       "        vertical-align: top;\n",
       "    }\n",
       "\n",
       "    .dataframe thead th {\n",
       "        text-align: right;\n",
       "    }\n",
       "</style>\n",
       "<table border=\"1\" class=\"dataframe\">\n",
       "  <thead>\n",
       "    <tr style=\"text-align: right;\">\n",
       "      <th></th>\n",
       "      <th>0</th>\n",
       "      <th>1</th>\n",
       "      <th>2</th>\n",
       "    </tr>\n",
       "  </thead>\n",
       "  <tbody>\n",
       "    <tr>\n",
       "      <th>0</th>\n",
       "      <td>34.623660</td>\n",
       "      <td>78.024693</td>\n",
       "      <td>0</td>\n",
       "    </tr>\n",
       "    <tr>\n",
       "      <th>1</th>\n",
       "      <td>30.286711</td>\n",
       "      <td>43.894998</td>\n",
       "      <td>0</td>\n",
       "    </tr>\n",
       "    <tr>\n",
       "      <th>2</th>\n",
       "      <td>35.847409</td>\n",
       "      <td>72.902198</td>\n",
       "      <td>0</td>\n",
       "    </tr>\n",
       "    <tr>\n",
       "      <th>3</th>\n",
       "      <td>60.182599</td>\n",
       "      <td>86.308552</td>\n",
       "      <td>1</td>\n",
       "    </tr>\n",
       "    <tr>\n",
       "      <th>4</th>\n",
       "      <td>79.032736</td>\n",
       "      <td>75.344376</td>\n",
       "      <td>1</td>\n",
       "    </tr>\n",
       "  </tbody>\n",
       "</table>\n",
       "</div>"
      ],
      "text/plain": [
       "           0          1  2\n",
       "0  34.623660  78.024693  0\n",
       "1  30.286711  43.894998  0\n",
       "2  35.847409  72.902198  0\n",
       "3  60.182599  86.308552  1\n",
       "4  79.032736  75.344376  1"
      ]
     },
     "execution_count": 3,
     "metadata": {},
     "output_type": "execute_result"
    }
   ],
   "source": [
    "data.head()"
   ]
  },
  {
   "cell_type": "code",
   "execution_count": 4,
   "metadata": {},
   "outputs": [
    {
     "data": {
      "text/html": [
       "<div>\n",
       "<style scoped>\n",
       "    .dataframe tbody tr th:only-of-type {\n",
       "        vertical-align: middle;\n",
       "    }\n",
       "\n",
       "    .dataframe tbody tr th {\n",
       "        vertical-align: top;\n",
       "    }\n",
       "\n",
       "    .dataframe thead th {\n",
       "        text-align: right;\n",
       "    }\n",
       "</style>\n",
       "<table border=\"1\" class=\"dataframe\">\n",
       "  <thead>\n",
       "    <tr style=\"text-align: right;\">\n",
       "      <th></th>\n",
       "      <th>0</th>\n",
       "      <th>1</th>\n",
       "    </tr>\n",
       "  </thead>\n",
       "  <tbody>\n",
       "    <tr>\n",
       "      <th>0</th>\n",
       "      <td>34.623660</td>\n",
       "      <td>78.024693</td>\n",
       "    </tr>\n",
       "    <tr>\n",
       "      <th>1</th>\n",
       "      <td>30.286711</td>\n",
       "      <td>43.894998</td>\n",
       "    </tr>\n",
       "    <tr>\n",
       "      <th>2</th>\n",
       "      <td>35.847409</td>\n",
       "      <td>72.902198</td>\n",
       "    </tr>\n",
       "    <tr>\n",
       "      <th>3</th>\n",
       "      <td>60.182599</td>\n",
       "      <td>86.308552</td>\n",
       "    </tr>\n",
       "    <tr>\n",
       "      <th>4</th>\n",
       "      <td>79.032736</td>\n",
       "      <td>75.344376</td>\n",
       "    </tr>\n",
       "  </tbody>\n",
       "</table>\n",
       "</div>"
      ],
      "text/plain": [
       "           0          1\n",
       "0  34.623660  78.024693\n",
       "1  30.286711  43.894998\n",
       "2  35.847409  72.902198\n",
       "3  60.182599  86.308552\n",
       "4  79.032736  75.344376"
      ]
     },
     "execution_count": 4,
     "metadata": {},
     "output_type": "execute_result"
    }
   ],
   "source": [
    "X=data[[0,1]]\n",
    "X.head()"
   ]
  },
  {
   "cell_type": "code",
   "execution_count": 5,
   "metadata": {},
   "outputs": [
    {
     "data": {
      "text/plain": [
       "0    0\n",
       "1    0\n",
       "2    0\n",
       "3    1\n",
       "4    1\n",
       "Name: 2, dtype: int64"
      ]
     },
     "execution_count": 5,
     "metadata": {},
     "output_type": "execute_result"
    }
   ],
   "source": [
    "y=data[2]\n",
    "y.head()"
   ]
  },
  {
   "cell_type": "code",
   "execution_count": 6,
   "metadata": {},
   "outputs": [
    {
     "data": {
      "text/plain": [
       "(100, 2)"
      ]
     },
     "execution_count": 6,
     "metadata": {},
     "output_type": "execute_result"
    }
   ],
   "source": [
    "X.shape"
   ]
  },
  {
   "cell_type": "code",
   "execution_count": 7,
   "metadata": {},
   "outputs": [],
   "source": [
    "unos = np.ones(100)\n",
    "X['independiente']=pd.DataFrame(unos)"
   ]
  },
  {
   "cell_type": "code",
   "execution_count": 8,
   "metadata": {},
   "outputs": [
    {
     "data": {
      "text/html": [
       "<div>\n",
       "<style scoped>\n",
       "    .dataframe tbody tr th:only-of-type {\n",
       "        vertical-align: middle;\n",
       "    }\n",
       "\n",
       "    .dataframe tbody tr th {\n",
       "        vertical-align: top;\n",
       "    }\n",
       "\n",
       "    .dataframe thead th {\n",
       "        text-align: right;\n",
       "    }\n",
       "</style>\n",
       "<table border=\"1\" class=\"dataframe\">\n",
       "  <thead>\n",
       "    <tr style=\"text-align: right;\">\n",
       "      <th></th>\n",
       "      <th>0</th>\n",
       "      <th>1</th>\n",
       "      <th>independiente</th>\n",
       "    </tr>\n",
       "  </thead>\n",
       "  <tbody>\n",
       "    <tr>\n",
       "      <th>0</th>\n",
       "      <td>34.623660</td>\n",
       "      <td>78.024693</td>\n",
       "      <td>1.0</td>\n",
       "    </tr>\n",
       "    <tr>\n",
       "      <th>1</th>\n",
       "      <td>30.286711</td>\n",
       "      <td>43.894998</td>\n",
       "      <td>1.0</td>\n",
       "    </tr>\n",
       "    <tr>\n",
       "      <th>2</th>\n",
       "      <td>35.847409</td>\n",
       "      <td>72.902198</td>\n",
       "      <td>1.0</td>\n",
       "    </tr>\n",
       "    <tr>\n",
       "      <th>3</th>\n",
       "      <td>60.182599</td>\n",
       "      <td>86.308552</td>\n",
       "      <td>1.0</td>\n",
       "    </tr>\n",
       "    <tr>\n",
       "      <th>4</th>\n",
       "      <td>79.032736</td>\n",
       "      <td>75.344376</td>\n",
       "      <td>1.0</td>\n",
       "    </tr>\n",
       "  </tbody>\n",
       "</table>\n",
       "</div>"
      ],
      "text/plain": [
       "           0          1  independiente\n",
       "0  34.623660  78.024693            1.0\n",
       "1  30.286711  43.894998            1.0\n",
       "2  35.847409  72.902198            1.0\n",
       "3  60.182599  86.308552            1.0\n",
       "4  79.032736  75.344376            1.0"
      ]
     },
     "execution_count": 8,
     "metadata": {},
     "output_type": "execute_result"
    }
   ],
   "source": [
    "X.head()"
   ]
  },
  {
   "cell_type": "code",
   "execution_count": 9,
   "metadata": {},
   "outputs": [],
   "source": [
    "X = X.reindex(columns=['independiente',0,1])"
   ]
  },
  {
   "cell_type": "code",
   "execution_count": 10,
   "metadata": {},
   "outputs": [
    {
     "data": {
      "text/html": [
       "<div>\n",
       "<style scoped>\n",
       "    .dataframe tbody tr th:only-of-type {\n",
       "        vertical-align: middle;\n",
       "    }\n",
       "\n",
       "    .dataframe tbody tr th {\n",
       "        vertical-align: top;\n",
       "    }\n",
       "\n",
       "    .dataframe thead th {\n",
       "        text-align: right;\n",
       "    }\n",
       "</style>\n",
       "<table border=\"1\" class=\"dataframe\">\n",
       "  <thead>\n",
       "    <tr style=\"text-align: right;\">\n",
       "      <th></th>\n",
       "      <th>independiente</th>\n",
       "      <th>0</th>\n",
       "      <th>1</th>\n",
       "    </tr>\n",
       "  </thead>\n",
       "  <tbody>\n",
       "    <tr>\n",
       "      <th>0</th>\n",
       "      <td>1.0</td>\n",
       "      <td>34.623660</td>\n",
       "      <td>78.024693</td>\n",
       "    </tr>\n",
       "    <tr>\n",
       "      <th>1</th>\n",
       "      <td>1.0</td>\n",
       "      <td>30.286711</td>\n",
       "      <td>43.894998</td>\n",
       "    </tr>\n",
       "    <tr>\n",
       "      <th>2</th>\n",
       "      <td>1.0</td>\n",
       "      <td>35.847409</td>\n",
       "      <td>72.902198</td>\n",
       "    </tr>\n",
       "    <tr>\n",
       "      <th>3</th>\n",
       "      <td>1.0</td>\n",
       "      <td>60.182599</td>\n",
       "      <td>86.308552</td>\n",
       "    </tr>\n",
       "    <tr>\n",
       "      <th>4</th>\n",
       "      <td>1.0</td>\n",
       "      <td>79.032736</td>\n",
       "      <td>75.344376</td>\n",
       "    </tr>\n",
       "  </tbody>\n",
       "</table>\n",
       "</div>"
      ],
      "text/plain": [
       "   independiente          0          1\n",
       "0            1.0  34.623660  78.024693\n",
       "1            1.0  30.286711  43.894998\n",
       "2            1.0  35.847409  72.902198\n",
       "3            1.0  60.182599  86.308552\n",
       "4            1.0  79.032736  75.344376"
      ]
     },
     "execution_count": 10,
     "metadata": {},
     "output_type": "execute_result"
    }
   ],
   "source": [
    "X.head()"
   ]
  },
  {
   "cell_type": "code",
   "execution_count": 63,
   "metadata": {},
   "outputs": [],
   "source": [
    "theta = np.array([-24,0.2,0.2])"
   ]
  },
  {
   "cell_type": "code",
   "execution_count": 64,
   "metadata": {},
   "outputs": [],
   "source": [
    "X_array=np.array(X)"
   ]
  },
  {
   "cell_type": "code",
   "execution_count": 65,
   "metadata": {},
   "outputs": [
    {
     "data": {
      "text/plain": [
       "array([-24.        ,   7.16948175,  14.58043961])"
      ]
     },
     "execution_count": 65,
     "metadata": {},
     "output_type": "execute_result"
    }
   ],
   "source": [
    "X_array[2]*theta"
   ]
  },
  {
   "cell_type": "code",
   "execution_count": 66,
   "metadata": {},
   "outputs": [],
   "source": [
    "X_matrix = np.matrix(X_array)"
   ]
  },
  {
   "cell_type": "code",
   "execution_count": 67,
   "metadata": {},
   "outputs": [],
   "source": [
    "theta_matrix= np.matrix(theta)"
   ]
  },
  {
   "cell_type": "code",
   "execution_count": 68,
   "metadata": {
    "scrolled": true
   },
   "outputs": [
    {
     "data": {
      "text/plain": [
       "matrix([[ -1.47032951],\n",
       "        [ -9.16365834],\n",
       "        [ -2.25007864],\n",
       "        [  5.2982303 ],\n",
       "        [  6.8754225 ],\n",
       "        [ -3.72007015],\n",
       "        [  7.52361808],\n",
       "        [  0.31575182],\n",
       "        [  8.70387128],\n",
       "        [  1.59324265],\n",
       "        [  2.81736663],\n",
       "        [ -2.87661568],\n",
       "        [  7.75780334],\n",
       "        [  9.41665614],\n",
       "        [ -0.88497   ],\n",
       "        [  4.63568046],\n",
       "        [  0.36212276],\n",
       "        [ -1.07491408],\n",
       "        [  8.71772949],\n",
       "        [  0.91094948],\n",
       "        [ -1.95790683],\n",
       "        [  7.09522834],\n",
       "        [ -4.12188004],\n",
       "        [ -8.31568208],\n",
       "        [  5.37929029],\n",
       "        [  2.44509432],\n",
       "        [  1.00236194],\n",
       "        [  2.38301183],\n",
       "        [ -1.58273722],\n",
       "        [ -3.24370305],\n",
       "        [  2.83743535],\n",
       "        [  4.49130067],\n",
       "        [ -0.9528793 ],\n",
       "        [  0.29565298],\n",
       "        [ -1.71907165],\n",
       "        [ -2.63020171],\n",
       "        [  2.55698717],\n",
       "        [  5.01700989],\n",
       "        [ -0.72746636],\n",
       "        [ -2.11572793],\n",
       "        [  4.04208798],\n",
       "        [ -4.31919789],\n",
       "        [  8.00245787],\n",
       "        [  0.59740178],\n",
       "        [ -4.62590935],\n",
       "        [ -1.14326646],\n",
       "        [  5.53024699],\n",
       "        [ 12.89988432],\n",
       "        [  7.76837758],\n",
       "        [ 12.05225341],\n",
       "        [  6.82158746],\n",
       "        [  8.05431159],\n",
       "        [  2.78746318],\n",
       "        [ -5.01582874],\n",
       "        [ -3.98179301],\n",
       "        [ -2.12087436],\n",
       "        [  9.30144134],\n",
       "        [  1.63514956],\n",
       "        [  4.81465252],\n",
       "        [  6.05000486],\n",
       "        [  8.23110963],\n",
       "        [ -7.53867465],\n",
       "        [ -4.896942  ],\n",
       "        [ -8.06964074],\n",
       "        [ -1.77633043],\n",
       "        [ -2.46940149],\n",
       "        [  3.59854729],\n",
       "        [ -3.80884499],\n",
       "        [ 10.47912697],\n",
       "        [  1.54762252],\n",
       "        [ -8.79399878],\n",
       "        [  4.41420169],\n",
       "        [  9.71481744],\n",
       "        [  2.71057677],\n",
       "        [  2.93988091],\n",
       "        [ 10.43942195],\n",
       "        [  3.14802682],\n",
       "        [  1.25360387],\n",
       "        [ -3.40720685],\n",
       "        [  0.98930802],\n",
       "        [  7.74353706],\n",
       "        [  4.10576271],\n",
       "        [  2.78172213],\n",
       "        [ -0.64940234],\n",
       "        [ 10.26538078],\n",
       "        [  6.81256578],\n",
       "        [  0.18404811],\n",
       "        [  9.1804482 ],\n",
       "        [ 11.0565703 ],\n",
       "        [ -1.37649815],\n",
       "        [ 10.25068724],\n",
       "        [ 11.59146855],\n",
       "        [ -5.78942708],\n",
       "        [  7.86756585],\n",
       "        [  3.04081806],\n",
       "        [  2.37388971],\n",
       "        [  1.87311035],\n",
       "        [  9.61808366],\n",
       "        [  0.05439111],\n",
       "        [  8.86114118]])"
      ]
     },
     "execution_count": 68,
     "metadata": {},
     "output_type": "execute_result"
    }
   ],
   "source": [
    "X_matrix*theta_matrix.T"
   ]
  },
  {
   "cell_type": "code",
   "execution_count": 69,
   "metadata": {},
   "outputs": [
    {
     "data": {
      "text/plain": [
       "(100, 3)"
      ]
     },
     "execution_count": 69,
     "metadata": {},
     "output_type": "execute_result"
    }
   ],
   "source": [
    "X_matrix.shape"
   ]
  },
  {
   "cell_type": "code",
   "execution_count": 70,
   "metadata": {},
   "outputs": [
    {
     "data": {
      "text/plain": [
       "(3, 1)"
      ]
     },
     "execution_count": 70,
     "metadata": {},
     "output_type": "execute_result"
    }
   ],
   "source": [
    "theta_matrix.T.shape"
   ]
  },
  {
   "cell_type": "code",
   "execution_count": 71,
   "metadata": {},
   "outputs": [],
   "source": [
    "z= X_matrix*theta_matrix.T\n",
    "\n",
    "sigmoid = 1/(1+np.exp(z))"
   ]
  },
  {
   "cell_type": "code",
   "execution_count": 72,
   "metadata": {},
   "outputs": [
    {
     "data": {
      "text/plain": [
       "35.709700510046552"
      ]
     },
     "execution_count": 72,
     "metadata": {},
     "output_type": "execute_result"
    }
   ],
   "source": [
    "sigmoid.sum()"
   ]
  },
  {
   "cell_type": "code",
   "execution_count": 73,
   "metadata": {},
   "outputs": [
    {
     "data": {
      "text/plain": [
       "1.0"
      ]
     },
     "execution_count": 73,
     "metadata": {},
     "output_type": "execute_result"
    }
   ],
   "source": [
    "np.log(np.exp(1))"
   ]
  },
  {
   "cell_type": "code",
   "execution_count": 74,
   "metadata": {},
   "outputs": [],
   "source": [
    "J = 1/100*k"
   ]
  },
  {
   "cell_type": "code",
   "execution_count": 75,
   "metadata": {},
   "outputs": [],
   "source": [
    "y_matrix = np.matrix(y)"
   ]
  },
  {
   "cell_type": "code",
   "execution_count": 76,
   "metadata": {},
   "outputs": [
    {
     "data": {
      "text/plain": [
       "matrix([[ 349.58073718]])"
      ]
     },
     "execution_count": 76,
     "metadata": {},
     "output_type": "execute_result"
    }
   ],
   "source": [
    "(-y_matrix*np.log(sigmoid))"
   ]
  },
  {
   "cell_type": "code",
   "execution_count": 77,
   "metadata": {
    "scrolled": true
   },
   "outputs": [
    {
     "data": {
      "text/plain": [
       "matrix([[-123.134634]])"
      ]
     },
     "execution_count": 77,
     "metadata": {},
     "output_type": "execute_result"
    }
   ],
   "source": [
    "(1-y_matrix)*np.log(1-sigmoid)"
   ]
  },
  {
   "cell_type": "code",
   "execution_count": 78,
   "metadata": {},
   "outputs": [],
   "source": [
    "k = float((-y_matrix*np.log(sigmoid))-(1-y_matrix)*np.log(1-sigmoid))"
   ]
  },
  {
   "cell_type": "code",
   "execution_count": 79,
   "metadata": {},
   "outputs": [
    {
     "data": {
      "text/plain": [
       "4.7271537117484845"
      ]
     },
     "execution_count": 79,
     "metadata": {},
     "output_type": "execute_result"
    }
   ],
   "source": [
    "J = 1/100*k\n",
    "J"
   ]
  },
  {
   "cell_type": "code",
   "execution_count": 187,
   "metadata": {},
   "outputs": [],
   "source": [
    "theta = np.array([-24,0.2,0.2])"
   ]
  },
  {
   "cell_type": "code",
   "execution_count": 134,
   "metadata": {},
   "outputs": [
    {
     "data": {
      "text/plain": [
       "array([[  1.        ,  34.62365962,  78.02469282],\n",
       "       [  1.        ,  30.28671077,  43.89499752],\n",
       "       [  1.        ,  35.84740877,  72.90219803],\n",
       "       [  1.        ,  60.18259939,  86.3085521 ],\n",
       "       [  1.        ,  79.03273605,  75.34437644],\n",
       "       [  1.        ,  45.08327748,  56.31637178],\n",
       "       [  1.        ,  61.10666454,  96.51142588],\n",
       "       [  1.        ,  75.02474557,  46.55401354],\n",
       "       [  1.        ,  76.0987867 ,  87.42056972],\n",
       "       [  1.        ,  84.43281996,  43.53339331],\n",
       "       [  1.        ,  95.86155507,  38.22527806],\n",
       "       [  1.        ,  75.01365839,  30.60326323],\n",
       "       [  1.        ,  82.30705337,  76.4819633 ],\n",
       "       [  1.        ,  69.36458876,  97.71869196],\n",
       "       [  1.        ,  39.53833914,  76.03681085],\n",
       "       [  1.        ,  53.97105215,  89.20735014],\n",
       "       [  1.        ,  69.07014406,  52.74046973],\n",
       "       [  1.        ,  67.94685548,  46.67857411],\n",
       "       [  1.        ,  70.66150955,  92.92713789],\n",
       "       [  1.        ,  76.97878373,  47.57596365],\n",
       "       [  1.        ,  67.37202755,  42.83843832],\n",
       "       [  1.        ,  89.67677575,  65.79936593],\n",
       "       [  1.        ,  50.53478829,  48.85581153],\n",
       "       [  1.        ,  34.21206098,  44.2095286 ],\n",
       "       [  1.        ,  77.92409145,  68.97235999],\n",
       "       [  1.        ,  62.27101367,  69.95445795],\n",
       "       [  1.        ,  80.19018075,  44.82162893],\n",
       "       [  1.        ,  93.1143888 ,  38.80067034],\n",
       "       [  1.        ,  61.83020602,  50.25610789],\n",
       "       [  1.        ,  38.7858038 ,  64.99568096],\n",
       "       [  1.        ,  61.37928945,  72.80788731],\n",
       "       [  1.        ,  85.40451939,  57.05198398],\n",
       "       [  1.        ,  52.10797973,  63.12762377],\n",
       "       [  1.        ,  52.04540477,  69.43286012],\n",
       "       [  1.        ,  40.23689374,  71.16774802],\n",
       "       [  1.        ,  54.63510555,  52.21388588],\n",
       "       [  1.        ,  33.91550011,  98.86943574],\n",
       "       [  1.        ,  64.17698887,  80.90806059],\n",
       "       [  1.        ,  74.78925296,  41.57341523],\n",
       "       [  1.        ,  34.18364003,  75.23772034],\n",
       "       [  1.        ,  83.90239366,  56.30804622],\n",
       "       [  1.        ,  51.54772027,  46.85629026],\n",
       "       [  1.        ,  94.44336777,  65.56892161],\n",
       "       [  1.        ,  82.36875376,  40.61825516],\n",
       "       [  1.        ,  51.04775177,  45.82270146],\n",
       "       [  1.        ,  62.22267576,  52.06099195],\n",
       "       [  1.        ,  77.19303493,  70.4582    ],\n",
       "       [  1.        ,  97.77159928,  86.72782233],\n",
       "       [  1.        ,  62.0730638 ,  96.76882412],\n",
       "       [  1.        ,  91.5649745 ,  88.69629255],\n",
       "       [  1.        ,  79.94481794,  74.16311935],\n",
       "       [  1.        ,  99.27252693,  60.999031  ],\n",
       "       [  1.        ,  90.54671411,  43.39060181],\n",
       "       [  1.        ,  34.52451385,  60.39634246],\n",
       "       [  1.        ,  50.28649612,  49.80453881],\n",
       "       [  1.        ,  49.58667722,  59.80895099],\n",
       "       [  1.        ,  97.64563396,  68.86157272],\n",
       "       [  1.        ,  32.57720017,  95.59854761],\n",
       "       [  1.        ,  74.24869137,  69.82457123],\n",
       "       [  1.        ,  71.79646206,  78.45356225],\n",
       "       [  1.        ,  75.39561147,  85.75993667],\n",
       "       [  1.        ,  35.28611282,  47.02051395],\n",
       "       [  1.        ,  56.2538175 ,  39.26147251],\n",
       "       [  1.        ,  30.05882245,  49.59297387],\n",
       "       [  1.        ,  44.66826172,  66.45008615],\n",
       "       [  1.        ,  66.56089447,  41.09209808],\n",
       "       [  1.        ,  40.45755098,  97.53518549],\n",
       "       [  1.        ,  49.07256322,  51.88321182],\n",
       "       [  1.        ,  80.27957401,  92.11606081],\n",
       "       [  1.        ,  66.74671857,  60.99139403],\n",
       "       [  1.        ,  32.72283304,  43.30717306],\n",
       "       [  1.        ,  64.03932042,  78.03168802],\n",
       "       [  1.        ,  72.34649423,  96.22759297],\n",
       "       [  1.        ,  60.45788574,  73.0949981 ],\n",
       "       [  1.        ,  58.84095622,  75.85844831],\n",
       "       [  1.        ,  99.8278578 ,  72.36925193],\n",
       "       [  1.        ,  47.26426911,  88.475865  ],\n",
       "       [  1.        ,  50.4581598 ,  75.80985953],\n",
       "       [  1.        ,  60.45555629,  42.50840944],\n",
       "       [  1.        ,  82.22666158,  42.71987854],\n",
       "       [  1.        ,  88.91389642,  69.8037889 ],\n",
       "       [  1.        ,  94.83450672,  45.6943068 ],\n",
       "       [  1.        ,  67.31925747,  66.58935318],\n",
       "       [  1.        ,  57.23870632,  59.51428198],\n",
       "       [  1.        ,  80.366756  ,  90.9601479 ],\n",
       "       [  1.        ,  68.46852179,  85.5943071 ],\n",
       "       [  1.        ,  42.07545454,  78.844786  ],\n",
       "       [  1.        ,  75.47770201,  90.424539  ],\n",
       "       [  1.        ,  78.63542435,  96.64742717],\n",
       "       [  1.        ,  52.34800399,  60.76950526],\n",
       "       [  1.        ,  94.09433113,  77.15910509],\n",
       "       [  1.        ,  90.44855097,  87.50879176],\n",
       "       [  1.        ,  55.48216114,  35.57070347],\n",
       "       [  1.        ,  74.49269242,  84.84513685],\n",
       "       [  1.        ,  89.84580671,  45.35828361],\n",
       "       [  1.        ,  83.48916274,  48.3802858 ],\n",
       "       [  1.        ,  42.26170081,  87.10385094],\n",
       "       [  1.        ,  99.31500881,  68.77540947],\n",
       "       [  1.        ,  55.34001756,  64.93193801],\n",
       "       [  1.        ,  74.775893  ,  89.5298129 ]])"
      ]
     },
     "execution_count": 134,
     "metadata": {},
     "output_type": "execute_result"
    }
   ],
   "source": [
    "X_array"
   ]
  },
  {
   "cell_type": "code",
   "execution_count": 135,
   "metadata": {},
   "outputs": [
    {
     "data": {
      "text/plain": [
       "array([0, 0, 0, 1, 1, 0, 1, 1, 1, 1, 0, 0, 1, 1, 0, 1, 1, 0, 1, 1, 0, 1, 0,\n",
       "       0, 1, 1, 1, 0, 0, 0, 1, 1, 0, 1, 0, 0, 0, 1, 0, 0, 1, 0, 1, 0, 0, 0,\n",
       "       1, 1, 1, 1, 1, 1, 1, 0, 0, 0, 1, 0, 1, 1, 1, 0, 0, 0, 0, 0, 1, 0, 1,\n",
       "       1, 0, 1, 1, 1, 1, 1, 1, 1, 0, 0, 1, 1, 1, 1, 1, 1, 0, 1, 1, 0, 1, 1,\n",
       "       0, 1, 1, 1, 1, 1, 1, 1])"
      ]
     },
     "execution_count": 135,
     "metadata": {},
     "output_type": "execute_result"
    }
   ],
   "source": [
    "y_array = np.array(y)\n",
    "y_array"
   ]
  },
  {
   "cell_type": "code",
   "execution_count": 136,
   "metadata": {},
   "outputs": [
    {
     "data": {
      "text/plain": [
       "array([0, 0, 0, 1, 1, 0, 1, 1, 1, 1, 0, 0, 1, 1, 0, 1, 1, 0, 1, 1, 0, 1, 0,\n",
       "       0, 1, 1, 1, 0, 0, 0, 1, 1, 0, 1, 0, 0, 0, 1, 0, 0, 1, 0, 1, 0, 0, 0,\n",
       "       1, 1, 1, 1, 1, 1, 1, 0, 0, 0, 1, 0, 1, 1, 1, 0, 0, 0, 0, 0, 1, 0, 1,\n",
       "       1, 0, 1, 1, 1, 1, 1, 1, 1, 0, 0, 1, 1, 1, 1, 1, 1, 0, 1, 1, 0, 1, 1,\n",
       "       0, 1, 1, 1, 1, 1, 1, 1])"
      ]
     },
     "execution_count": 136,
     "metadata": {},
     "output_type": "execute_result"
    }
   ],
   "source": [
    "np.transpose(y_array)"
   ]
  },
  {
   "cell_type": "code",
   "execution_count": 190,
   "metadata": {},
   "outputs": [
    {
     "data": {
      "text/plain": [
       "array([ -1.47032951,  -9.16365834,  -2.25007864,   5.2982303 ,\n",
       "         6.8754225 ,  -3.72007015,   7.52361808,   0.31575182,\n",
       "         8.70387128,   1.59324265,   2.81736663,  -2.87661568,\n",
       "         7.75780334,   9.41665614,  -0.88497   ,   4.63568046,\n",
       "         0.36212276,  -1.07491408,   8.71772949,   0.91094948,\n",
       "        -1.95790683,   7.09522834,  -4.12188004,  -8.31568208,\n",
       "         5.37929029,   2.44509432,   1.00236194,   2.38301183,\n",
       "        -1.58273722,  -3.24370305,   2.83743535,   4.49130067,\n",
       "        -0.9528793 ,   0.29565298,  -1.71907165,  -2.63020171,\n",
       "         2.55698717,   5.01700989,  -0.72746636,  -2.11572793,\n",
       "         4.04208798,  -4.31919789,   8.00245787,   0.59740178,\n",
       "        -4.62590935,  -1.14326646,   5.53024699,  12.89988432,\n",
       "         7.76837758,  12.05225341,   6.82158746,   8.05431159,\n",
       "         2.78746318,  -5.01582874,  -3.98179301,  -2.12087436,\n",
       "         9.30144134,   1.63514956,   4.81465252,   6.05000486,\n",
       "         8.23110963,  -7.53867465,  -4.896942  ,  -8.06964074,\n",
       "        -1.77633043,  -2.46940149,   3.59854729,  -3.80884499,\n",
       "        10.47912697,   1.54762252,  -8.79399878,   4.41420169,\n",
       "         9.71481744,   2.71057677,   2.93988091,  10.43942195,\n",
       "         3.14802682,   1.25360387,  -3.40720685,   0.98930802,\n",
       "         7.74353706,   4.10576271,   2.78172213,  -0.64940234,\n",
       "        10.26538078,   6.81256578,   0.18404811,   9.1804482 ,\n",
       "        11.0565703 ,  -1.37649815,  10.25068724,  11.59146855,\n",
       "        -5.78942708,   7.86756585,   3.04081806,   2.37388971,\n",
       "         1.87311035,   9.61808366,   0.05439111,   8.86114118])"
      ]
     },
     "execution_count": 190,
     "metadata": {},
     "output_type": "execute_result"
    }
   ],
   "source": [
    "z=np.dot(X_array,theta)\n",
    "z"
   ]
  },
  {
   "cell_type": "code",
   "execution_count": 138,
   "metadata": {},
   "outputs": [],
   "source": [
    "h = 1/(1+np.exp(-z))"
   ]
  },
  {
   "cell_type": "code",
   "execution_count": 139,
   "metadata": {},
   "outputs": [],
   "source": [
    "s = (-y_array*np.log(h)-(1-y_array)*np.log(1-h))"
   ]
  },
  {
   "cell_type": "code",
   "execution_count": 141,
   "metadata": {},
   "outputs": [
    {
     "data": {
      "text/plain": [
       "0.21833019382659785"
      ]
     },
     "execution_count": 141,
     "metadata": {},
     "output_type": "execute_result"
    }
   ],
   "source": [
    "J=1/100*s.sum()\n",
    "J"
   ]
  },
  {
   "cell_type": "code",
   "execution_count": 160,
   "metadata": {},
   "outputs": [
    {
     "data": {
      "text/plain": [
       "array([ 0.04290299,  2.56623412,  2.64679737])"
      ]
     },
     "execution_count": 160,
     "metadata": {},
     "output_type": "execute_result"
    }
   ],
   "source": [
    "for j in range(3):\n",
    "    a1=(h-y_array)*X_array[:,j]\n",
    "    theta[j]=1/100*a1.sum()\n",
    "    \n",
    "theta"
   ]
  },
  {
   "cell_type": "code",
   "execution_count": 162,
   "metadata": {},
   "outputs": [
    {
     "data": {
      "text/plain": [
       "264.67973710824333"
      ]
     },
     "execution_count": 162,
     "metadata": {},
     "output_type": "execute_result"
    }
   ],
   "source": [
    "a1.sum()"
   ]
  },
  {
   "cell_type": "code",
   "execution_count": 172,
   "metadata": {},
   "outputs": [
    {
     "data": {
      "text/plain": [
       "array([  1.86892535e-01,   1.04767902e-04,   9.53426817e-02,\n",
       "         9.95024445e-01,   9.98968205e-01,   2.36589577e-02,\n",
       "         9.99460117e-01,   5.78288591e-01,   9.99834085e-01,\n",
       "         8.31071833e-01,   9.43607101e-01,   5.33217140e-02,\n",
       "         9.99572788e-01,   9.99918649e-01,   2.92148932e-01,\n",
       "         9.90393672e-01,   5.89554197e-01,   2.54469685e-01,\n",
       "         9.99836368e-01,   7.13194415e-01,   1.23693756e-01,\n",
       "         9.99171635e-01,   1.59553035e-02,   2.44590126e-04,\n",
       "         9.95410071e-01,   9.20201967e-01,   7.31522710e-01,\n",
       "         9.15522663e-01,   1.70408175e-01,   3.75538198e-02,\n",
       "         9.44665554e-01,   9.88918125e-01,   2.78306140e-01,\n",
       "         5.73379509e-01,   1.51990780e-01,   6.72198018e-02,\n",
       "         9.28041519e-01,   9.93419288e-01,   3.25750963e-01,\n",
       "         1.07577522e-01,   9.82742291e-01,   1.31357121e-02,\n",
       "         9.99665473e-01,   6.45061650e-01,   9.69973765e-03,\n",
       "         2.41721140e-01,   9.96050650e-01,   9.99997502e-01,\n",
       "         9.99577280e-01,   9.99994169e-01,   9.98911198e-01,\n",
       "         9.99682372e-01,   9.41994586e-01,   6.58843806e-03,\n",
       "         1.83106328e-02,   1.07084438e-01,   9.99908716e-01,\n",
       "         8.36873856e-01,   9.91955204e-01,   9.97647696e-01,\n",
       "         9.99733830e-01,   5.31819396e-04,   7.41401145e-03,\n",
       "         3.12797800e-04,   1.44756844e-01,   7.80312825e-02,\n",
       "         9.73365371e-01,   2.16927646e-02,   9.99971884e-01,\n",
       "         8.24570084e-01,   1.51617386e-04,   9.88040547e-01,\n",
       "         9.99939622e-01,   9.37647877e-01,   9.49783047e-01,\n",
       "         9.99970745e-01,   9.58830903e-01,   7.77923084e-01,\n",
       "         3.20709903e-02,   7.28951222e-01,   9.99566652e-01,\n",
       "         9.83789658e-01,   9.41680094e-01,   3.43124231e-01,\n",
       "         9.99965183e-01,   9.98901341e-01,   5.45882582e-01,\n",
       "         9.99896976e-01,   9.99984217e-01,   2.01572001e-01,\n",
       "         9.99964668e-01,   9.99990755e-01,   3.05040125e-03,\n",
       "         9.99617181e-01,   9.54384457e-01,   9.14814471e-01,\n",
       "         8.66817761e-01,   9.99933489e-01,   5.13594427e-01,\n",
       "         9.99858227e-01])"
      ]
     },
     "execution_count": 172,
     "metadata": {},
     "output_type": "execute_result"
    }
   ],
   "source": [
    "h"
   ]
  },
  {
   "cell_type": "code",
   "execution_count": 180,
   "metadata": {},
   "outputs": [
    {
     "data": {
      "text/plain": [
       "array([  1.        ,  34.62365962,  78.02469282])"
      ]
     },
     "execution_count": 180,
     "metadata": {},
     "output_type": "execute_result"
    }
   ],
   "source": [
    "X_array[0]"
   ]
  },
  {
   "cell_type": "code",
   "execution_count": 178,
   "metadata": {},
   "outputs": [
    {
     "data": {
      "text/plain": [
       "14"
      ]
     },
     "execution_count": 178,
     "metadata": {},
     "output_type": "execute_result"
    }
   ],
   "source": [
    "np.dot(A,A)"
   ]
  },
  {
   "cell_type": "code",
   "execution_count": 189,
   "metadata": {},
   "outputs": [
    {
     "data": {
      "text/plain": [
       "-1.4703295120241258"
      ]
     },
     "execution_count": 189,
     "metadata": {},
     "output_type": "execute_result"
    }
   ],
   "source": [
    "np.dot(X_array[0],theta)"
   ]
  },
  {
   "cell_type": "code",
   "execution_count": 188,
   "metadata": {},
   "outputs": [
    {
     "data": {
      "text/plain": [
       "array([-24. ,   0.2,   0.2])"
      ]
     },
     "execution_count": 188,
     "metadata": {},
     "output_type": "execute_result"
    }
   ],
   "source": [
    "theta"
   ]
  },
  {
   "cell_type": "code",
   "execution_count": null,
   "metadata": {},
   "outputs": [],
   "source": []
  }
 ],
 "metadata": {
  "kernelspec": {
   "display_name": "Python 3",
   "language": "python",
   "name": "python3"
  },
  "language_info": {
   "codemirror_mode": {
    "name": "ipython",
    "version": 3
   },
   "file_extension": ".py",
   "mimetype": "text/x-python",
   "name": "python",
   "nbconvert_exporter": "python",
   "pygments_lexer": "ipython3",
   "version": "3.6.0"
  }
 },
 "nbformat": 4,
 "nbformat_minor": 2
}
